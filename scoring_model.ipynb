{
  "nbformat": 4,
  "nbformat_minor": 0,
  "metadata": {
    "colab": {
      "name": "Untitled4_skoring.ipynb",
      "provenance": [],
      "collapsed_sections": []
    },
    "kernelspec": {
      "name": "python3",
      "display_name": "Python 3"
    }
  },
  "cells": [
    {
      "cell_type": "code",
      "metadata": {
        "id": "2WbBK2O8jv3N",
        "colab": {
          "base_uri": "https://localhost:8080/"
        },
        "outputId": "d47ef50d-b744-4653-93f8-6b55398e7c07"
      },
      "source": [
        "!pip install q keras==2.3.1\n",
        "!pip install q tensorflow==2.2.0"
      ],
      "execution_count": null,
      "outputs": [
        {
          "output_type": "stream",
          "text": [
            "Collecting q\n",
            "  Downloading https://files.pythonhosted.org/packages/53/bc/51619d89e0bd855567e7652fa16d06f1ed36a85f108a7fe71f6629bf719d/q-2.6-py2.py3-none-any.whl\n",
            "Collecting keras==2.3.1\n",
            "\u001b[?25l  Downloading https://files.pythonhosted.org/packages/ad/fd/6bfe87920d7f4fd475acd28500a42482b6b84479832bdc0fe9e589a60ceb/Keras-2.3.1-py2.py3-none-any.whl (377kB)\n",
            "\u001b[K     |████████████████████████████████| 378kB 9.7MB/s \n",
            "\u001b[?25hRequirement already satisfied: keras-preprocessing>=1.0.5 in /usr/local/lib/python3.6/dist-packages (from keras==2.3.1) (1.1.2)\n",
            "Requirement already satisfied: numpy>=1.9.1 in /usr/local/lib/python3.6/dist-packages (from keras==2.3.1) (1.18.5)\n",
            "Requirement already satisfied: pyyaml in /usr/local/lib/python3.6/dist-packages (from keras==2.3.1) (3.13)\n",
            "Requirement already satisfied: h5py in /usr/local/lib/python3.6/dist-packages (from keras==2.3.1) (2.10.0)\n",
            "Requirement already satisfied: six>=1.9.0 in /usr/local/lib/python3.6/dist-packages (from keras==2.3.1) (1.15.0)\n",
            "Collecting keras-applications>=1.0.6\n",
            "\u001b[?25l  Downloading https://files.pythonhosted.org/packages/71/e3/19762fdfc62877ae9102edf6342d71b28fbfd9dea3d2f96a882ce099b03f/Keras_Applications-1.0.8-py3-none-any.whl (50kB)\n",
            "\u001b[K     |████████████████████████████████| 51kB 5.1MB/s \n",
            "\u001b[?25hRequirement already satisfied: scipy>=0.14 in /usr/local/lib/python3.6/dist-packages (from keras==2.3.1) (1.4.1)\n",
            "Installing collected packages: q, keras-applications, keras\n",
            "  Found existing installation: Keras 2.4.3\n",
            "    Uninstalling Keras-2.4.3:\n",
            "      Successfully uninstalled Keras-2.4.3\n",
            "Successfully installed keras-2.3.1 keras-applications-1.0.8 q-2.6\n",
            "Requirement already satisfied: q in /usr/local/lib/python3.6/dist-packages (2.6)\n",
            "Collecting tensorflow==2.2.0\n",
            "\u001b[?25l  Downloading https://files.pythonhosted.org/packages/3d/be/679ce5254a8c8d07470efb4a4c00345fae91f766e64f1c2aece8796d7218/tensorflow-2.2.0-cp36-cp36m-manylinux2010_x86_64.whl (516.2MB)\n",
            "\u001b[K     |████████████████████████████████| 516.2MB 31kB/s \n",
            "\u001b[?25hRequirement already satisfied: numpy<2.0,>=1.16.0 in /usr/local/lib/python3.6/dist-packages (from tensorflow==2.2.0) (1.18.5)\n",
            "Collecting tensorflow-estimator<2.3.0,>=2.2.0\n",
            "\u001b[?25l  Downloading https://files.pythonhosted.org/packages/a4/f5/926ae53d6a226ec0fda5208e0e581cffed895ccc89e36ba76a8e60895b78/tensorflow_estimator-2.2.0-py2.py3-none-any.whl (454kB)\n",
            "\u001b[K     |████████████████████████████████| 460kB 64.8MB/s \n",
            "\u001b[?25hRequirement already satisfied: six>=1.12.0 in /usr/local/lib/python3.6/dist-packages (from tensorflow==2.2.0) (1.15.0)\n",
            "Requirement already satisfied: h5py<2.11.0,>=2.10.0 in /usr/local/lib/python3.6/dist-packages (from tensorflow==2.2.0) (2.10.0)\n",
            "Requirement already satisfied: absl-py>=0.7.0 in /usr/local/lib/python3.6/dist-packages (from tensorflow==2.2.0) (0.10.0)\n",
            "Requirement already satisfied: astunparse==1.6.3 in /usr/local/lib/python3.6/dist-packages (from tensorflow==2.2.0) (1.6.3)\n",
            "Requirement already satisfied: google-pasta>=0.1.8 in /usr/local/lib/python3.6/dist-packages (from tensorflow==2.2.0) (0.2.0)\n",
            "Requirement already satisfied: termcolor>=1.1.0 in /usr/local/lib/python3.6/dist-packages (from tensorflow==2.2.0) (1.1.0)\n",
            "Requirement already satisfied: keras-preprocessing>=1.1.0 in /usr/local/lib/python3.6/dist-packages (from tensorflow==2.2.0) (1.1.2)\n",
            "Requirement already satisfied: gast==0.3.3 in /usr/local/lib/python3.6/dist-packages (from tensorflow==2.2.0) (0.3.3)\n",
            "Requirement already satisfied: opt-einsum>=2.3.2 in /usr/local/lib/python3.6/dist-packages (from tensorflow==2.2.0) (3.3.0)\n",
            "Requirement already satisfied: protobuf>=3.8.0 in /usr/local/lib/python3.6/dist-packages (from tensorflow==2.2.0) (3.12.4)\n",
            "Collecting tensorboard<2.3.0,>=2.2.0\n",
            "\u001b[?25l  Downloading https://files.pythonhosted.org/packages/1d/74/0a6fcb206dcc72a6da9a62dd81784bfdbff5fedb099982861dc2219014fb/tensorboard-2.2.2-py3-none-any.whl (3.0MB)\n",
            "\u001b[K     |████████████████████████████████| 3.0MB 33.5MB/s \n",
            "\u001b[?25hRequirement already satisfied: wrapt>=1.11.1 in /usr/local/lib/python3.6/dist-packages (from tensorflow==2.2.0) (1.12.1)\n",
            "Requirement already satisfied: wheel>=0.26; python_version >= \"3\" in /usr/local/lib/python3.6/dist-packages (from tensorflow==2.2.0) (0.35.1)\n",
            "Requirement already satisfied: grpcio>=1.8.6 in /usr/local/lib/python3.6/dist-packages (from tensorflow==2.2.0) (1.33.2)\n",
            "Requirement already satisfied: scipy==1.4.1; python_version >= \"3\" in /usr/local/lib/python3.6/dist-packages (from tensorflow==2.2.0) (1.4.1)\n",
            "Requirement already satisfied: setuptools in /usr/local/lib/python3.6/dist-packages (from protobuf>=3.8.0->tensorflow==2.2.0) (50.3.2)\n",
            "Requirement already satisfied: google-auth<2,>=1.6.3 in /usr/local/lib/python3.6/dist-packages (from tensorboard<2.3.0,>=2.2.0->tensorflow==2.2.0) (1.17.2)\n",
            "Requirement already satisfied: markdown>=2.6.8 in /usr/local/lib/python3.6/dist-packages (from tensorboard<2.3.0,>=2.2.0->tensorflow==2.2.0) (3.3.3)\n",
            "Requirement already satisfied: tensorboard-plugin-wit>=1.6.0 in /usr/local/lib/python3.6/dist-packages (from tensorboard<2.3.0,>=2.2.0->tensorflow==2.2.0) (1.7.0)\n",
            "Requirement already satisfied: werkzeug>=0.11.15 in /usr/local/lib/python3.6/dist-packages (from tensorboard<2.3.0,>=2.2.0->tensorflow==2.2.0) (1.0.1)\n",
            "Requirement already satisfied: google-auth-oauthlib<0.5,>=0.4.1 in /usr/local/lib/python3.6/dist-packages (from tensorboard<2.3.0,>=2.2.0->tensorflow==2.2.0) (0.4.2)\n",
            "Requirement already satisfied: requests<3,>=2.21.0 in /usr/local/lib/python3.6/dist-packages (from tensorboard<2.3.0,>=2.2.0->tensorflow==2.2.0) (2.23.0)\n",
            "Requirement already satisfied: pyasn1-modules>=0.2.1 in /usr/local/lib/python3.6/dist-packages (from google-auth<2,>=1.6.3->tensorboard<2.3.0,>=2.2.0->tensorflow==2.2.0) (0.2.8)\n",
            "Requirement already satisfied: rsa<5,>=3.1.4; python_version >= \"3\" in /usr/local/lib/python3.6/dist-packages (from google-auth<2,>=1.6.3->tensorboard<2.3.0,>=2.2.0->tensorflow==2.2.0) (4.6)\n",
            "Requirement already satisfied: cachetools<5.0,>=2.0.0 in /usr/local/lib/python3.6/dist-packages (from google-auth<2,>=1.6.3->tensorboard<2.3.0,>=2.2.0->tensorflow==2.2.0) (4.1.1)\n",
            "Requirement already satisfied: importlib-metadata; python_version < \"3.8\" in /usr/local/lib/python3.6/dist-packages (from markdown>=2.6.8->tensorboard<2.3.0,>=2.2.0->tensorflow==2.2.0) (2.0.0)\n",
            "Requirement already satisfied: requests-oauthlib>=0.7.0 in /usr/local/lib/python3.6/dist-packages (from google-auth-oauthlib<0.5,>=0.4.1->tensorboard<2.3.0,>=2.2.0->tensorflow==2.2.0) (1.3.0)\n",
            "Requirement already satisfied: urllib3!=1.25.0,!=1.25.1,<1.26,>=1.21.1 in /usr/local/lib/python3.6/dist-packages (from requests<3,>=2.21.0->tensorboard<2.3.0,>=2.2.0->tensorflow==2.2.0) (1.24.3)\n",
            "Requirement already satisfied: idna<3,>=2.5 in /usr/local/lib/python3.6/dist-packages (from requests<3,>=2.21.0->tensorboard<2.3.0,>=2.2.0->tensorflow==2.2.0) (2.10)\n",
            "Requirement already satisfied: chardet<4,>=3.0.2 in /usr/local/lib/python3.6/dist-packages (from requests<3,>=2.21.0->tensorboard<2.3.0,>=2.2.0->tensorflow==2.2.0) (3.0.4)\n",
            "Requirement already satisfied: certifi>=2017.4.17 in /usr/local/lib/python3.6/dist-packages (from requests<3,>=2.21.0->tensorboard<2.3.0,>=2.2.0->tensorflow==2.2.0) (2020.6.20)\n",
            "Requirement already satisfied: pyasn1<0.5.0,>=0.4.6 in /usr/local/lib/python3.6/dist-packages (from pyasn1-modules>=0.2.1->google-auth<2,>=1.6.3->tensorboard<2.3.0,>=2.2.0->tensorflow==2.2.0) (0.4.8)\n",
            "Requirement already satisfied: zipp>=0.5 in /usr/local/lib/python3.6/dist-packages (from importlib-metadata; python_version < \"3.8\"->markdown>=2.6.8->tensorboard<2.3.0,>=2.2.0->tensorflow==2.2.0) (3.4.0)\n",
            "Requirement already satisfied: oauthlib>=3.0.0 in /usr/local/lib/python3.6/dist-packages (from requests-oauthlib>=0.7.0->google-auth-oauthlib<0.5,>=0.4.1->tensorboard<2.3.0,>=2.2.0->tensorflow==2.2.0) (3.1.0)\n",
            "Installing collected packages: tensorflow-estimator, tensorboard, tensorflow\n",
            "  Found existing installation: tensorflow-estimator 2.3.0\n",
            "    Uninstalling tensorflow-estimator-2.3.0:\n",
            "      Successfully uninstalled tensorflow-estimator-2.3.0\n",
            "  Found existing installation: tensorboard 2.3.0\n",
            "    Uninstalling tensorboard-2.3.0:\n",
            "      Successfully uninstalled tensorboard-2.3.0\n",
            "  Found existing installation: tensorflow 2.3.0\n",
            "    Uninstalling tensorflow-2.3.0:\n",
            "      Successfully uninstalled tensorflow-2.3.0\n",
            "Successfully installed tensorboard-2.2.2 tensorflow-2.2.0 tensorflow-estimator-2.2.0\n"
          ],
          "name": "stdout"
        }
      ]
    },
    {
      "cell_type": "code",
      "metadata": {
        "id": "RoXgiioKjyzQ",
        "colab": {
          "base_uri": "https://localhost:8080/"
        },
        "outputId": "7f3f9f2a-22e1-4713-bfa0-839a660337e0"
      },
      "source": [
        "from time import time\n",
        "import pandas as pd\n",
        "import numpy as np\n",
        "from gensim.models import Word2Vec\n",
        "from sklearn.model_selection import train_test_split\n",
        "import matplotlib.pyplot as plt\n",
        "import re\n",
        " \n",
        "import itertools\n",
        "import datetime\n",
        "import json\n",
        "from keras.preprocessing.sequence import pad_sequences\n",
        "from keras.models import Model, model_from_json\n",
        "from keras.layers import Input, Embedding, LSTM, Lambda, Dropout\n",
        "import keras.backend as K\n",
        "from keras.callbacks import EarlyStopping\n",
        "from keras.optimizers import Adadelta\n",
        "import tensorflow as tf\n"
      ],
      "execution_count": null,
      "outputs": [
        {
          "output_type": "stream",
          "text": [
            "Using TensorFlow backend.\n"
          ],
          "name": "stderr"
        }
      ]
    },
    {
      "cell_type": "code",
      "metadata": {
        "id": "q5txKA6lqlvq"
      },
      "source": [
        "import gensim"
      ],
      "execution_count": null,
      "outputs": []
    },
    {
      "cell_type": "code",
      "metadata": {
        "id": "P-6EzRqzE_qm",
        "colab": {
          "base_uri": "https://localhost:8080/",
          "height": 35
        },
        "outputId": "cb771db6-8200-48df-afdb-1f0924ef39d6"
      },
      "source": [
        "pd.__version__"
      ],
      "execution_count": null,
      "outputs": [
        {
          "output_type": "execute_result",
          "data": {
            "application/vnd.google.colaboratory.intrinsic+json": {
              "type": "string"
            },
            "text/plain": [
              "'1.1.4'"
            ]
          },
          "metadata": {
            "tags": []
          },
          "execution_count": 4
        }
      ]
    },
    {
      "cell_type": "code",
      "metadata": {
        "id": "23O2C60ewY77"
      },
      "source": [
        "#LoadData\n",
        "class LoadData:\n",
        "  def load_train_dataset(self,loc):\n",
        "    data_df = pd.read_csv(loc, encoding='ISO-8859-1')\n",
        "    return data_df\n",
        "\n",
        "  def load_validation_dataset(self,loc):\n",
        "    data_df = pd.read_csv(loc, encoding='ISO-8859-1')\n",
        "    return data_df\n",
        "  \n",
        "  def load_test_dataset(self,loc):\n",
        "    data_df = pd.read_csv(loc, encoding='ISO-8859-1')\n",
        "    return data_df\n",
        "#EndLoadData"
      ],
      "execution_count": null,
      "outputs": []
    },
    {
      "cell_type": "code",
      "metadata": {
        "id": "g4kZKWF5yU7E"
      },
      "source": [
        "class Preproses:\n",
        "  import json\n",
        "  from json import load\n",
        "  # Opening vocabulary JSON file \n",
        "  with open('/content/drive/My Drive/Colab Notebooks/vocab_scoring/vocabulary_scoring.json') as json_file: \n",
        "    vocabulary = load(json_file)\n",
        "\n",
        "  # Opening inverse vocabulary file\n",
        "  with open('/content/drive/My Drive/Colab Notebooks/vocab_scoring/inverse_vocabulary_scoring.txt', 'r') as f:\n",
        "    inverse_vocabulary = json.loads(f.read())\n",
        "\n",
        "  word2vec = Word2Vec.load('/content/drive/My Drive/Colab Notebooks/vector/w2vec_wiki_id_300_2')\n",
        "\n",
        "  def preprocessing(self, data_df):\n",
        "    indonesia_stop_words = [\n",
        "    'yang', 'ada', 'berikut',\n",
        "     'ini', 'untuk', 'apa',\n",
        "     'berbagai', 'tetapi', 'maupun',\n",
        "     'atas', 'berarti', 'itu',\n",
        "     'apakah', 'demikian', 'bagaikan',\n",
        "     'adalah', 'ialah', 'oleh', 'dsb', 'dll', 'dkk'\n",
        "    ]\n",
        "    def remove_indonesia_stopwords(data_df):\n",
        "      return ' '.join([word for word in str(data_df).lower().split() if word not in indonesia_stop_words])\n",
        "\n",
        "    data_df['jawaban_siswa']=data_df['jawaban_siswa'].str.lower()\n",
        "    data_df['kunci_jawaban']=data_df['kunci_jawaban'].str.lower()\n",
        "\n",
        "    # Remove tanda baca\n",
        "    data_df['jawaban_siswa'] = data_df['jawaban_siswa'].str.replace('[^\\w\\s]', ' ')\n",
        "    data_df['kunci_jawaban'] = data_df['kunci_jawaban'].str.replace('[^\\w\\s]', ' ')\n",
        "\n",
        "    # Remove Indonesia stop words\n",
        "    data_df.jawaban_siswa = data_df.jawaban_siswa.apply(remove_indonesia_stopwords)\n",
        "    data_df.kunci_jawaban = data_df.kunci_jawaban.apply(remove_indonesia_stopwords)\n",
        "\n",
        "    return data_df\n",
        "\n",
        "  def text_to_number(self,data_df):\n",
        "    def text_to_word_list(text):\n",
        "      ''' Pre process and convert texts to a list of words '''\n",
        "      text = str(text)\n",
        "      text = text.split()\n",
        "      return text\n",
        "    \n",
        "    vocabulary = self.vocabulary\n",
        "    inverse_vocabulary = self.inverse_vocabulary\n",
        "    word2vec = self.word2vec\n",
        "\n",
        "    kalimat_cols = ['jawaban_siswa', 'kunci_jawaban']\n",
        "\n",
        "    outside_words = set()\n",
        "\n",
        "    # Iterate over the questions only of both training and test datasets\n",
        "    for dataset in [data_df]:\n",
        "      for index, row in dataset.iterrows():\n",
        "        # Iterate through the text of both questions of the row\n",
        "        for kalimat in kalimat_cols:\n",
        "          kata_n_representasi = []  # kata representation\n",
        "\n",
        "          for word in text_to_word_list(row[kalimat]):\n",
        "            # mendadtarkan kata yang tidak ada pada word2vec\n",
        "            if word not in word2vec.wv.vocab:\n",
        "              outside_words.add(word)\n",
        "\n",
        "            if word not in vocabulary:\n",
        "              vocabulary[word] = len(inverse_vocabulary)\n",
        "              kata_n_representasi.append(len(inverse_vocabulary))\n",
        "              inverse_vocabulary.append(word)\n",
        "            else:\n",
        "              kata_n_representasi.append(vocabulary[word])\n",
        "\n",
        "            # Replace word to number representation\n",
        "            dataset.at[index, kalimat] = kata_n_representasi\n",
        "    \n",
        "    import json\n",
        "    json = json.dumps(vocabulary)\n",
        "    f = open(\"vocabulary.json\",\"w\")\n",
        "    f.write(json)\n",
        "    f.close()\n",
        "\n",
        "    import json as j\n",
        "    with open('inverse_vocabulary.txt', 'w') as f:\n",
        "        f.write(j.dumps(inverse_vocabulary))\n",
        "    \n",
        "    self.outside = outside_words\n",
        "\n",
        "    return data_df\n",
        "\n",
        "  def embedding_matrix(self):\n",
        "    vocabulary = self.vocabulary\n",
        "    word2vec = self.word2vec\n",
        "    embedding_dim = 300\n",
        "    embeddings = 1 * np.random.randn(len(vocabulary)+1, embedding_dim)  # Embedding matrix\n",
        "    embeddings[0] = 0  # mengabaikan padding\n",
        "\n",
        "    # Membangun embedding matrix\n",
        "    for word, index in vocabulary.items():\n",
        "        if word in word2vec.wv.vocab:\n",
        "            embeddings[index] = word2vec.wv[word]\n",
        "\n",
        "    del word2vec\n",
        "    return embeddings\n",
        "  \n",
        "  def zero_padding(self,data_df):\n",
        "    max_seq_length = 100\n",
        "    data_df = {'left': data_df.jawaban_siswa, 'right': data_df.kunci_jawaban}\n",
        "    \n",
        "    for dataset, side in itertools.product([data_df],['left','right']):\n",
        "      dataset[side] = pad_sequences(dataset[side], maxlen = max_seq_length)\n",
        "\n",
        "    return data_df"
      ],
      "execution_count": null,
      "outputs": []
    },
    {
      "cell_type": "code",
      "metadata": {
        "id": "R9kOpO-AJTsG"
      },
      "source": [
        "class Train:\n",
        "\n",
        "  def parameter(self, batchsize=64, nhidden=30, epo=25):\n",
        "    self.batchsize = batchsize\n",
        "    self.nhidden = nhidden\n",
        "    self.epo = epo\n",
        "    \n",
        "  \n",
        "  def training(self, X_train, Y_train, X_validation, Y_validation, prep):\n",
        "    tf.keras.backend.clear_session()\n",
        "    tf.random.set_seed(3)\n",
        "    np.random.seed(3)\n",
        "    self.embed = prep.embedding_matrix()\n",
        "    gradient_clipping_norm = 1.25 \n",
        "    embedding_dim = 300\n",
        "    max_seq_length = 100\n",
        "\n",
        "    # def exponent_neg_manhattan_distance(left, right):\n",
        "    #   ''' Helper function for the similarity estimate of the LSTMs outputs'''\n",
        "    #   return K.exp(-K.sum(K.abs(left-right), axis=1, keepdims=True))\n",
        "\n",
        "    # Set 2 input\n",
        "    left_input = Input(shape=(max_seq_length,), dtype='int32')\n",
        "    right_input = Input(shape=(max_seq_length,), dtype='int32')\n",
        "\n",
        "    embedding_layer = Embedding(len(self.embed), embedding_dim, weights=[self.embed], input_length=max_seq_length, trainable=False)\n",
        "\n",
        "    # Embedded version of the inputs\n",
        "    encoded_left = embedding_layer(left_input)\n",
        "    encoded_right = embedding_layer(right_input)\n",
        "\n",
        "    # Since this is a siamese network, both sides share the same LSTM\n",
        "    shared_lstm = LSTM(self.nhidden)\n",
        "\n",
        "    left_output = shared_lstm(encoded_left)\n",
        "    right_output = shared_lstm(encoded_right)\n",
        "\n",
        "    # dropout_layer = Dropout(0.2)\n",
        "\n",
        "    # left_output = dropout_layer(left_lstm)\n",
        "    # right_output = dropout_layer(right_lstm)\n",
        "\n",
        "    # Calculates the distance as defined by the MaLSTM model\n",
        "    malstm_distance = Lambda(function=lambda x: K.exp(-K.sum(K.abs(x[0]-x[1]), axis=1, keepdims=True)),output_shape=lambda x: (x[0][0], 1))([left_output, right_output])\n",
        "\n",
        "    # Pack it all up into a model\n",
        "    self.model = Model([left_input, right_input], [malstm_distance])\n",
        "\n",
        "    # Adadelta optimizer, with gradient clipping by norm\n",
        "    optimizer = Adadelta(clipnorm=gradient_clipping_norm)\n",
        "\n",
        "    self.model.compile(loss='mean_squared_error', optimizer=optimizer)\n",
        "\n",
        "    # Start training\n",
        "    training_start_time = time()\n",
        "\n",
        "    self.malstm_trained = self.model.fit([X_train['left'], X_train['right']], Y_train, batch_size=self.batchsize, epochs=self.epo,\n",
        "                                validation_data=([X_validation['left'], X_validation['right']], Y_validation))# callbacks=[EarlyStopping(monitor='val_loss',min_delta=0.0001)])\n",
        "\n",
        "    print(\"Training time finished.\\n{} epochs in {}\".format(self.epo, datetime.timedelta(seconds=time()-training_start_time)))\n",
        "    return self.model\n",
        "\n",
        "  def save_model(self, model):\n",
        "    model_json = model.to_json()\n",
        "    with open(\"model.json\", \"w\") as json_file:\n",
        "      json_file.write(model_json)\n",
        "    model.save_weights('weights.h5')\n",
        "    return \"Model tersimpan.\"\n"
      ],
      "execution_count": null,
      "outputs": []
    },
    {
      "cell_type": "code",
      "metadata": {
        "id": "2a2mK9k-Ns4-"
      },
      "source": [
        "class Testing:\n",
        "\n",
        "  def set_model(self,train):\n",
        "    json_file = open(\"model.json\", \"r\")\n",
        "    loaded_model_json = json_file.read()\n",
        "    json_file.close()\n",
        "\n",
        "    train.model = model_from_json(loaded_model_json)\n",
        "    train.model.load_weights(\"weights.h5\")\n",
        "    train.model_loaded = True\n",
        "  \n",
        "  def testing(self,data_df,prep,train):\n",
        "    from copy import copy\n",
        "    self.data_df = data_df\n",
        "    self.prediksi_df = copy(data_df)\n",
        "    datatest_df = data_df\n",
        "    datatest_df = prep.preprocessing(datatest_df)\n",
        "    datatest_df = prep.text_to_number(datatest_df)\n",
        "    datatest_df = prep.zero_padding(datatest_df)\n",
        "\n",
        "    hasil_test = train.model.predict([datatest_df['left'],datatest_df['right']])\n",
        "\n",
        "    self.prediksi_df['prediction'] = hasil_test\n",
        "    loc = 'hasil_prediksi.csv'\n",
        "    hasil_test_df = self.prediksi_df\n",
        "    hasil_test_df.to_csv(loc, index=False)\n",
        "\n",
        "    return hasil_test_df"
      ],
      "execution_count": null,
      "outputs": []
    },
    {
      "cell_type": "code",
      "metadata": {
        "id": "yxaw9ppyTEya"
      },
      "source": [
        "class Plot:\n",
        "  def plot(self, a, b, judul, label_a, label_b, label_y, label_x, keterangan):\n",
        "    import datetime as dtm\n",
        "    #plt.figure(figsize=(9,5))\n",
        "    plt.plot(a, label=label_a, lw=2)\n",
        "    plt.plot(b, label=label_b, lw=2)\n",
        "    plt.title(judul)\n",
        "    plt.ylabel(label_y)\n",
        "    plt.xlabel(label_x)\n",
        "    plt.legend()\n",
        "    self.t = dtm.datetime.now().strftime(\"%Y-%m-%d_%H_%M_%S\")\n",
        "    self.nm = keterangan + self.t + '.png'\n",
        "    plt.savefig(self.nm)\n",
        "    plt.show()\n",
        "    plt.close()\n",
        "    return self.nm"
      ],
      "execution_count": null,
      "outputs": []
    },
    {
      "cell_type": "code",
      "metadata": {
        "id": "7VbERZQB04iy"
      },
      "source": [
        "load = LoadData()\n",
        "prep = Preproses()\n",
        "plot = Plot()\n",
        "trn = Train()"
      ],
      "execution_count": null,
      "outputs": []
    },
    {
      "cell_type": "code",
      "metadata": {
        "id": "HZE8VjtO1Ept"
      },
      "source": [
        "train = load.load_train_dataset('/content/drive/My Drive/Colab Notebooks/vocab_scoring/train_skoring.csv')"
      ],
      "execution_count": null,
      "outputs": []
    },
    {
      "cell_type": "code",
      "metadata": {
        "id": "DqsttFLhZpDi"
      },
      "source": [
        "validation = load.load_validation_dataset('/content/drive/My Drive/Colab Notebooks/vocab_scoring/validation_skoring.csv')"
      ],
      "execution_count": null,
      "outputs": []
    },
    {
      "cell_type": "code",
      "metadata": {
        "id": "dt0VKJ191Om7"
      },
      "source": [
        "train_df = prep.preprocessing(train)"
      ],
      "execution_count": null,
      "outputs": []
    },
    {
      "cell_type": "code",
      "metadata": {
        "id": "CzenE_LealSG"
      },
      "source": [
        "validation_df = prep.preprocessing(validation)"
      ],
      "execution_count": null,
      "outputs": []
    },
    {
      "cell_type": "code",
      "metadata": {
        "id": "BtokmTa-TtBK"
      },
      "source": [
        "train_df = prep.text_to_number(train_df)"
      ],
      "execution_count": null,
      "outputs": []
    },
    {
      "cell_type": "code",
      "metadata": {
        "id": "aOlm6iebIH40"
      },
      "source": [
        "outside_latih = prep.outside"
      ],
      "execution_count": null,
      "outputs": []
    },
    {
      "cell_type": "code",
      "metadata": {
        "id": "vgM6admwIMDo",
        "colab": {
          "base_uri": "https://localhost:8080/",
          "height": 35
        },
        "outputId": "54d50892-fa4d-4055-e329-7a2c67941355"
      },
      "source": [
        "len(outside_latih)"
      ],
      "execution_count": null,
      "outputs": [
        {
          "output_type": "execute_result",
          "data": {
            "text/plain": [
              "179"
            ]
          },
          "metadata": {
            "tags": []
          },
          "execution_count": 27
        }
      ]
    },
    {
      "cell_type": "code",
      "metadata": {
        "id": "6yX3FRLRa5cl"
      },
      "source": [
        "validation_df = prep.text_to_number(validation_df)"
      ],
      "execution_count": null,
      "outputs": []
    },
    {
      "cell_type": "code",
      "metadata": {
        "id": "x2iHdRn-IaQu",
        "colab": {
          "base_uri": "https://localhost:8080/",
          "height": 35
        },
        "outputId": "1ae3be12-56e9-4712-e98e-a81e9fb32be3"
      },
      "source": [
        "len(prep.outside)"
      ],
      "execution_count": null,
      "outputs": [
        {
          "output_type": "execute_result",
          "data": {
            "text/plain": [
              "55"
            ]
          },
          "metadata": {
            "tags": []
          },
          "execution_count": 31
        }
      ]
    },
    {
      "cell_type": "code",
      "metadata": {
        "id": "9vYzv10bbHxA"
      },
      "source": [
        "kalimat_cols = ['jawaban_siswa', 'kunci_jawaban']"
      ],
      "execution_count": null,
      "outputs": []
    },
    {
      "cell_type": "code",
      "metadata": {
        "id": "sMzahj--btE8"
      },
      "source": [
        "X_train = train_df[kalimat_cols]\n",
        "Y_train = train_df['value']\n",
        "X_validation = validation_df[kalimat_cols]\n",
        "Y_validation = validation_df['value']"
      ],
      "execution_count": null,
      "outputs": []
    },
    {
      "cell_type": "code",
      "metadata": {
        "id": "1YWwi1UH3aC9"
      },
      "source": [
        "# kalimat_cols = ['jawaban_siswa', 'kunci_jawaban']\n",
        "# num_samples = len(train_df)\n",
        "# validation_size = (int)(num_samples * 0.2)\n",
        "# training_size = len(train_df) - validation_size\n",
        "\n",
        "# X = train_df[kalimat_cols]\n",
        "# Y = train_df['value']\n",
        "\n",
        "# X_train, X_validation, Y_train, Y_validation = train_test_split(X, Y, test_size=validation_size)"
      ],
      "execution_count": null,
      "outputs": []
    },
    {
      "cell_type": "code",
      "metadata": {
        "id": "852bgC0j_KGk"
      },
      "source": [
        "X_train = prep.zero_padding(X_train)"
      ],
      "execution_count": null,
      "outputs": []
    },
    {
      "cell_type": "code",
      "metadata": {
        "id": "JdBdgmZk_UVi"
      },
      "source": [
        "X_validation = prep.zero_padding(X_validation)"
      ],
      "execution_count": null,
      "outputs": []
    },
    {
      "cell_type": "code",
      "metadata": {
        "id": "vnjXrZsSRhiB",
        "colab": {
          "base_uri": "https://localhost:8080/",
          "height": 191
        },
        "outputId": "a73c9d2d-61ef-4eae-e3e4-19c376c9198b"
      },
      "source": [
        "X_train['left'][0]"
      ],
      "execution_count": null,
      "outputs": [
        {
          "output_type": "execute_result",
          "data": {
            "text/plain": [
              "array([   0,    0,    0,    0,    0,    0,    0,    0,    0,    0,    0,\n",
              "          0,    0,    0,    0,    0,    0,    0,    0,    0,    0,    0,\n",
              "          0,    0,    0,    0,    0,    0,    0,    0,    0,    0,    0,\n",
              "          0,    0,    0,    0,    0,    0,    0,    0,    0,    0,    0,\n",
              "          0,    0,    0,    0,    0,    0,    0,    0,    0,    0,    0,\n",
              "          0,    0,    0,    0,    0,    0,    0,    0,    0,    0,    0,\n",
              "          0,    0,    0,    0,    0,    0,    0,    0,    0,    0,    0,\n",
              "          0,    0,    0,    0,    0,  285,  404,  473,  123,  842,  201,\n",
              "        141, 2738,  124,  892, 1384,   18,   42,  123, 2739,    5, 1021,\n",
              "       2739], dtype=int32)"
            ]
          },
          "metadata": {
            "tags": []
          },
          "execution_count": 37
        }
      ]
    },
    {
      "cell_type": "code",
      "metadata": {
        "id": "KPrGC4ICT5EW"
      },
      "source": [
        "trn.parameter(32,20,15)"
      ],
      "execution_count": null,
      "outputs": []
    },
    {
      "cell_type": "code",
      "metadata": {
        "id": "oUFr4MeDUHPG",
        "colab": {
          "base_uri": "https://localhost:8080/",
          "height": 589
        },
        "outputId": "5c6dc5c6-0b19-4900-daec-72b25d79dd09"
      },
      "source": [
        "model = trn.training(X_train, Y_train, X_validation, Y_validation, prep)"
      ],
      "execution_count": null,
      "outputs": [
        {
          "output_type": "stream",
          "text": [
            "Train on 7353 samples, validate on 1839 samples\n",
            "Epoch 1/15\n",
            "7353/7353 [==============================] - 21s 3ms/step - loss: 0.1057 - val_loss: 0.0840\n",
            "Epoch 2/15\n",
            "7353/7353 [==============================] - 22s 3ms/step - loss: 0.0825 - val_loss: 0.0752\n",
            "Epoch 3/15\n",
            "7353/7353 [==============================] - 20s 3ms/step - loss: 0.0740 - val_loss: 0.0705\n",
            "Epoch 4/15\n",
            "7353/7353 [==============================] - 20s 3ms/step - loss: 0.0688 - val_loss: 0.0682\n",
            "Epoch 5/15\n",
            "7353/7353 [==============================] - 20s 3ms/step - loss: 0.0655 - val_loss: 0.0663\n",
            "Epoch 6/15\n",
            "7353/7353 [==============================] - 20s 3ms/step - loss: 0.0630 - val_loss: 0.0645\n",
            "Epoch 7/15\n",
            "7353/7353 [==============================] - 20s 3ms/step - loss: 0.0613 - val_loss: 0.0634\n",
            "Epoch 8/15\n",
            "7353/7353 [==============================] - 24s 3ms/step - loss: 0.0596 - val_loss: 0.0625\n",
            "Epoch 9/15\n",
            "7353/7353 [==============================] - 21s 3ms/step - loss: 0.0584 - val_loss: 0.0623\n",
            "Epoch 10/15\n",
            "7353/7353 [==============================] - 20s 3ms/step - loss: 0.0571 - val_loss: 0.0615\n",
            "Epoch 11/15\n",
            "7353/7353 [==============================] - 20s 3ms/step - loss: 0.0562 - val_loss: 0.0611\n",
            "Epoch 12/15\n",
            "7353/7353 [==============================] - 20s 3ms/step - loss: 0.0554 - val_loss: 0.0602\n",
            "Epoch 13/15\n",
            "7353/7353 [==============================] - 20s 3ms/step - loss: 0.0546 - val_loss: 0.0598\n",
            "Epoch 14/15\n",
            "7353/7353 [==============================] - 21s 3ms/step - loss: 0.0538 - val_loss: 0.0593\n",
            "Epoch 15/15\n",
            "7353/7353 [==============================] - 21s 3ms/step - loss: 0.0532 - val_loss: 0.0592\n",
            "Training time finished.\n",
            "15 epochs in 0:05:14.551285\n"
          ],
          "name": "stdout"
        }
      ]
    },
    {
      "cell_type": "code",
      "metadata": {
        "id": "8XW0kG6p-HuL",
        "colab": {
          "base_uri": "https://localhost:8080/",
          "height": 295
        },
        "outputId": "e636f640-23bf-4f54-c28f-a0137a5a7b62"
      },
      "source": [
        "loss_plot = plot.plot(trn.malstm_trained.history['loss'],trn.malstm_trained.history['val_loss'],'Model Loss','Train','Validation','Loss','Epoch','model_loss')"
      ],
      "execution_count": null,
      "outputs": [
        {
          "output_type": "display_data",
          "data": {
            "image/png": "[encoded data removed]",
            "text/plain": [
              "<Figure size 432x288 with 1 Axes>"
            ]
          },
          "metadata": {
            "tags": [],
            "needs_background": "light"
          }
        }
      ]
    },
    {
      "cell_type": "code",
      "metadata": {
        "id": "sgml0MeeBv_c"
      },
      "source": [
        "model_simpan = trn.save_model(trn.model)"
      ],
      "execution_count": null,
      "outputs": []
    },
    {
      "cell_type": "code",
      "metadata": {
        "id": "mXmpS-WyNHZL"
      },
      "source": [
        "test_dataset = load.load_test_dataset('/content/drive/My Drive/Colab Notebooks/vocab_scoring/test_skoring.csv')"
      ],
      "execution_count": null,
      "outputs": []
    },
    {
      "cell_type": "code",
      "metadata": {
        "id": "9_0QiDJ1DIPc",
        "colab": {
          "base_uri": "https://localhost:8080/",
          "height": 589
        },
        "outputId": "5e189e38-c76c-44ea-afd9-e2074591d504"
      },
      "source": [
        "test_dataset"
      ],
      "execution_count": null,
      "outputs": [
        {
          "output_type": "execute_result",
          "data": {
            "text/html": [
              "<div>\n",
              "<style scoped>\n",
              "    .dataframe tbody tr th:only-of-type {\n",
              "        vertical-align: middle;\n",
              "    }\n",
              "\n",
              "    .dataframe tbody tr th {\n",
              "        vertical-align: top;\n",
              "    }\n",
              "\n",
              "    .dataframe thead th {\n",
              "        text-align: right;\n",
              "    }\n",
              "</style>\n",
              "<table border=\"1\" class=\"dataframe\">\n",
              "  <thead>\n",
              "    <tr style=\"text-align: right;\">\n",
              "      <th></th>\n",
              "      <th>nama</th>\n",
              "      <th>jawaban_siswa</th>\n",
              "      <th>kunci_jawaban</th>\n",
              "      <th>value</th>\n",
              "    </tr>\n",
              "  </thead>\n",
              "  <tbody>\n",
              "    <tr>\n",
              "      <th>0</th>\n",
              "      <td>Jack</td>\n",
              "      <td>seperangkat asas-asas hukum, aturan-aturan huk...</td>\n",
              "      <td>peraturan yang mengatur perilaku masyarakat be...</td>\n",
              "      <td>0.0</td>\n",
              "    </tr>\n",
              "    <tr>\n",
              "      <th>1</th>\n",
              "      <td>Feby</td>\n",
              "      <td>tanggung jawab lancar yang kepastian jumlah ya...</td>\n",
              "      <td>suatu hal yang harus dilakukan oleh seseorang</td>\n",
              "      <td>0.3</td>\n",
              "    </tr>\n",
              "    <tr>\n",
              "      <th>2</th>\n",
              "      <td>Bella Fransiska</td>\n",
              "      <td>Pengiriman dan mengeluarkan barang dari dalam ...</td>\n",
              "      <td>kegiatan menjual atau mengeluarkan barang dari...</td>\n",
              "      <td>0.8</td>\n",
              "    </tr>\n",
              "    <tr>\n",
              "      <th>3</th>\n",
              "      <td>Seri Mita Mutiara</td>\n",
              "      <td>Rotasi Bumi merujuk pada gerakan berputar plan...</td>\n",
              "      <td>gerakan perputaran bumi pada poros atau sumbunya</td>\n",
              "      <td>1.0</td>\n",
              "    </tr>\n",
              "    <tr>\n",
              "      <th>4</th>\n",
              "      <td>Tazrian Husna</td>\n",
              "      <td>perpindahan penduduk dari daerah yang padat pe...</td>\n",
              "      <td>perpindahan penduduk dari daerah yang padat pe...</td>\n",
              "      <td>1.0</td>\n",
              "    </tr>\n",
              "    <tr>\n",
              "      <th>...</th>\n",
              "      <td>...</td>\n",
              "      <td>...</td>\n",
              "      <td>...</td>\n",
              "      <td>...</td>\n",
              "    </tr>\n",
              "    <tr>\n",
              "      <th>2293</th>\n",
              "      <td>Tria Riskiani</td>\n",
              "      <td>interaksi yang terjadi pada dua makhluk hidup,...</td>\n",
              "      <td>hubungan antara dua makhluk hidup yang mengunt...</td>\n",
              "      <td>0.4</td>\n",
              "    </tr>\n",
              "    <tr>\n",
              "      <th>2294</th>\n",
              "      <td>Tim Tampubolon</td>\n",
              "      <td>perpindahan penduduk dengan tujuan untuk Mempe...</td>\n",
              "      <td>perpindahan penduduk dari desa ke kota</td>\n",
              "      <td>0.0</td>\n",
              "    </tr>\n",
              "    <tr>\n",
              "      <th>2295</th>\n",
              "      <td>MPS</td>\n",
              "      <td>salah satu alat bantu yang dapat dipergunakan ...</td>\n",
              "      <td>alat navigasi untuk menunjukkan arah mata angin.</td>\n",
              "      <td>0.7</td>\n",
              "    </tr>\n",
              "    <tr>\n",
              "      <th>2296</th>\n",
              "      <td>Lucas</td>\n",
              "      <td>suatu usaha untuk perubahan yang diperlihatkan...</td>\n",
              "      <td>suatu proses usaha yang dilakukan seseorang un...</td>\n",
              "      <td>0.7</td>\n",
              "    </tr>\n",
              "    <tr>\n",
              "      <th>2297</th>\n",
              "      <td>RIZAL ISKANDAR</td>\n",
              "      <td>Bahan atau zat yang dapat menghantarkan panas</td>\n",
              "      <td>benda yang dapat menghantarkan panas dengan baik</td>\n",
              "      <td>0.8</td>\n",
              "    </tr>\n",
              "  </tbody>\n",
              "</table>\n",
              "<p>2298 rows × 4 columns</p>\n",
              "</div>"
            ],
            "text/plain": [
              "                   nama  ... value\n",
              "0                  Jack  ...   0.0\n",
              "1                  Feby  ...   0.3\n",
              "2       Bella Fransiska  ...   0.8\n",
              "3     Seri Mita Mutiara  ...   1.0\n",
              "4         Tazrian Husna  ...   1.0\n",
              "...                 ...  ...   ...\n",
              "2293      Tria Riskiani  ...   0.4\n",
              "2294     Tim Tampubolon  ...   0.0\n",
              "2295                MPS  ...   0.7\n",
              "2296              Lucas  ...   0.7\n",
              "2297     RIZAL ISKANDAR  ...   0.8\n",
              "\n",
              "[2298 rows x 4 columns]"
            ]
          },
          "metadata": {
            "tags": []
          },
          "execution_count": 43
        }
      ]
    },
    {
      "cell_type": "code",
      "metadata": {
        "id": "1Z6qItKnOI6v"
      },
      "source": [
        "from copy import copy\n",
        "test_df = copy(test_dataset)"
      ],
      "execution_count": null,
      "outputs": []
    },
    {
      "cell_type": "code",
      "metadata": {
        "id": "MyctePqUOQqE"
      },
      "source": [
        "testing = Testing()"
      ],
      "execution_count": null,
      "outputs": []
    },
    {
      "cell_type": "code",
      "metadata": {
        "id": "Qp5PbD98OoVG"
      },
      "source": [
        "testing.set_model(trn)"
      ],
      "execution_count": null,
      "outputs": []
    },
    {
      "cell_type": "code",
      "metadata": {
        "id": "cI8BKjetOvod"
      },
      "source": [
        "hasil = testing.testing(test_df, prep, trn)"
      ],
      "execution_count": null,
      "outputs": []
    },
    {
      "cell_type": "code",
      "metadata": {
        "id": "98jw45epKF8p",
        "colab": {
          "base_uri": "https://localhost:8080/",
          "height": 1000
        },
        "outputId": "c8c3940f-e4c1-458a-b4ba-300ad91e8107"
      },
      "source": [
        "prep.outside"
      ],
      "execution_count": null,
      "outputs": [
        {
          "output_type": "execute_result",
          "data": {
            "text/plain": [
              "{'3',\n",
              " 'barangatau',\n",
              " 'dilakukandari',\n",
              " 'i',\n",
              " 'inshaf',\n",
              " 'keasusilaan',\n",
              " 'kemagnetisannya',\n",
              " 'kenegarannya',\n",
              " 'kerahasiannya',\n",
              " 'keseberagaman',\n",
              " 'ketergangguan',\n",
              " 'komensalime',\n",
              " 'lalukan',\n",
              " 'llingkungannya',\n",
              " 'mahkuk',\n",
              " 'masalalu',\n",
              " 'megurus',\n",
              " 'memabac',\n",
              " 'membagai',\n",
              " 'membutuhkanya',\n",
              " 'memperleh',\n",
              " 'mempertegak',\n",
              " 'mempertimbangkan',\n",
              " 'mempresentasikan',\n",
              " 'menawarkanatau',\n",
              " 'mendistribusikan',\n",
              " 'menempe',\n",
              " 'mengagaskan',\n",
              " 'menggelembungkan',\n",
              " 'menghayatinya',\n",
              " 'menginventarisasi',\n",
              " 'mengkomunikasikan',\n",
              " 'mengkoordinasikan',\n",
              " 'menguntungan',\n",
              " 'mensubtitusikan',\n",
              " 'menyebarluaskannya',\n",
              " 'menyelenggarkaan',\n",
              " 'nonfarmasi',\n",
              " 'onomata',\n",
              " 'penergah',\n",
              " 'penggerakkan',\n",
              " 'pengikisian',\n",
              " 'pengorganisasian',\n",
              " 'perkemabangan',\n",
              " 'persembatanan',\n",
              " 'psikofisis',\n",
              " 'rganisasi',\n",
              " 'rhemata',\n",
              " 'rugikan',\n",
              " 'sebaguan',\n",
              " 'sebangkunya',\n",
              " 'sekap',\n",
              " 'tepati',\n",
              " 'tergorganisasi',\n",
              " 'teritonal',\n",
              " 'terkomputerisasi',\n",
              " 'tertendang',\n",
              " 'transkultural'}"
            ]
          },
          "metadata": {
            "tags": []
          },
          "execution_count": 48
        }
      ]
    },
    {
      "cell_type": "code",
      "metadata": {
        "id": "gulezgTFKJgd",
        "colab": {
          "base_uri": "https://localhost:8080/",
          "height": 35
        },
        "outputId": "34ed53a7-f92d-4773-dbf5-3d57f83d0820"
      },
      "source": [
        "len(prep.outside)"
      ],
      "execution_count": null,
      "outputs": [
        {
          "output_type": "execute_result",
          "data": {
            "text/plain": [
              "58"
            ]
          },
          "metadata": {
            "tags": []
          },
          "execution_count": 49
        }
      ]
    },
    {
      "cell_type": "code",
      "metadata": {
        "id": "QFqsdaxQGc_V",
        "colab": {
          "base_uri": "https://localhost:8080/",
          "height": 589
        },
        "outputId": "49059e2a-f21f-425c-d679-b1032cafd79c"
      },
      "source": [
        "hasil"
      ],
      "execution_count": null,
      "outputs": [
        {
          "output_type": "execute_result",
          "data": {
            "text/html": [
              "<div>\n",
              "<style scoped>\n",
              "    .dataframe tbody tr th:only-of-type {\n",
              "        vertical-align: middle;\n",
              "    }\n",
              "\n",
              "    .dataframe tbody tr th {\n",
              "        vertical-align: top;\n",
              "    }\n",
              "\n",
              "    .dataframe thead th {\n",
              "        text-align: right;\n",
              "    }\n",
              "</style>\n",
              "<table border=\"1\" class=\"dataframe\">\n",
              "  <thead>\n",
              "    <tr style=\"text-align: right;\">\n",
              "      <th></th>\n",
              "      <th>nama</th>\n",
              "      <th>jawaban_siswa</th>\n",
              "      <th>kunci_jawaban</th>\n",
              "      <th>value</th>\n",
              "      <th>prediction</th>\n",
              "    </tr>\n",
              "  </thead>\n",
              "  <tbody>\n",
              "    <tr>\n",
              "      <th>0</th>\n",
              "      <td>Jack</td>\n",
              "      <td>seperangkat asas-asas hukum, aturan-aturan huk...</td>\n",
              "      <td>peraturan yang mengatur perilaku masyarakat be...</td>\n",
              "      <td>0.3</td>\n",
              "      <td>0.091855</td>\n",
              "    </tr>\n",
              "    <tr>\n",
              "      <th>1</th>\n",
              "      <td>Feby</td>\n",
              "      <td>tanggung jawab lancar yang kepastian jumlah ya...</td>\n",
              "      <td>suatu hal yang harus dilakukan oleh seseorang</td>\n",
              "      <td>0.3</td>\n",
              "      <td>0.287401</td>\n",
              "    </tr>\n",
              "    <tr>\n",
              "      <th>2</th>\n",
              "      <td>Bella Fransiska</td>\n",
              "      <td>Pengiriman dan mengeluarkan barang dari dalam ...</td>\n",
              "      <td>kegiatan menjual atau mengeluarkan barang dari...</td>\n",
              "      <td>0.8</td>\n",
              "      <td>0.816678</td>\n",
              "    </tr>\n",
              "    <tr>\n",
              "      <th>3</th>\n",
              "      <td>Seri Mita Mutiara</td>\n",
              "      <td>Rotasi Bumi merujuk pada gerakan berputar plan...</td>\n",
              "      <td>gerakan perputaran bumi pada poros atau sumbunya</td>\n",
              "      <td>1.0</td>\n",
              "      <td>0.818697</td>\n",
              "    </tr>\n",
              "    <tr>\n",
              "      <th>4</th>\n",
              "      <td>Tazrian Husna</td>\n",
              "      <td>perpindahan penduduk dari daerah yang padat pe...</td>\n",
              "      <td>perpindahan penduduk dari daerah yang padat pe...</td>\n",
              "      <td>1.0</td>\n",
              "      <td>1.000000</td>\n",
              "    </tr>\n",
              "    <tr>\n",
              "      <th>...</th>\n",
              "      <td>...</td>\n",
              "      <td>...</td>\n",
              "      <td>...</td>\n",
              "      <td>...</td>\n",
              "      <td>...</td>\n",
              "    </tr>\n",
              "    <tr>\n",
              "      <th>2293</th>\n",
              "      <td>Tria Riskiani</td>\n",
              "      <td>interaksi yang terjadi pada dua makhluk hidup,...</td>\n",
              "      <td>hubungan antara dua makhluk hidup yang mengunt...</td>\n",
              "      <td>0.4</td>\n",
              "      <td>0.634415</td>\n",
              "    </tr>\n",
              "    <tr>\n",
              "      <th>2294</th>\n",
              "      <td>Tim Tampubolon</td>\n",
              "      <td>perpindahan penduduk dengan tujuan untuk Mempe...</td>\n",
              "      <td>perpindahan penduduk dari desa ke kota</td>\n",
              "      <td>0.0</td>\n",
              "      <td>0.271855</td>\n",
              "    </tr>\n",
              "    <tr>\n",
              "      <th>2295</th>\n",
              "      <td>MPS</td>\n",
              "      <td>salah satu alat bantu yang dapat dipergunakan ...</td>\n",
              "      <td>alat navigasi untuk menunjukkan arah mata angin.</td>\n",
              "      <td>0.7</td>\n",
              "      <td>0.634445</td>\n",
              "    </tr>\n",
              "    <tr>\n",
              "      <th>2296</th>\n",
              "      <td>Lucas</td>\n",
              "      <td>suatu usaha untuk perubahan yang diperlihatkan...</td>\n",
              "      <td>suatu proses usaha yang dilakukan seseorang un...</td>\n",
              "      <td>0.7</td>\n",
              "      <td>0.582240</td>\n",
              "    </tr>\n",
              "    <tr>\n",
              "      <th>2297</th>\n",
              "      <td>RIZAL ISKANDAR</td>\n",
              "      <td>Bahan atau zat yang dapat menghantarkan panas</td>\n",
              "      <td>benda yang dapat menghantarkan panas dengan baik</td>\n",
              "      <td>0.8</td>\n",
              "      <td>0.756341</td>\n",
              "    </tr>\n",
              "  </tbody>\n",
              "</table>\n",
              "<p>2298 rows × 5 columns</p>\n",
              "</div>"
            ],
            "text/plain": [
              "                   nama  ... prediction\n",
              "0                  Jack  ...   0.091855\n",
              "1                  Feby  ...   0.287401\n",
              "2       Bella Fransiska  ...   0.816678\n",
              "3     Seri Mita Mutiara  ...   0.818697\n",
              "4         Tazrian Husna  ...   1.000000\n",
              "...                 ...  ...        ...\n",
              "2293      Tria Riskiani  ...   0.634415\n",
              "2294     Tim Tampubolon  ...   0.271855\n",
              "2295                MPS  ...   0.634445\n",
              "2296              Lucas  ...   0.582240\n",
              "2297     RIZAL ISKANDAR  ...   0.756341\n",
              "\n",
              "[2298 rows x 5 columns]"
            ]
          },
          "metadata": {
            "tags": []
          },
          "execution_count": 33
        }
      ]
    },
    {
      "cell_type": "code",
      "metadata": {
        "id": "tG1WVQPWGZj2",
        "colab": {
          "base_uri": "https://localhost:8080/",
          "height": 35
        },
        "outputId": "a13c8cac-cf95-4809-b44e-3ce046e3acca"
      },
      "source": [
        "hasil['value'].corr(hasil['prediction'], method='pearson')"
      ],
      "execution_count": null,
      "outputs": [
        {
          "output_type": "execute_result",
          "data": {
            "text/plain": [
              "0.8511335218060531"
            ]
          },
          "metadata": {
            "tags": []
          },
          "execution_count": 34
        }
      ]
    },
    {
      "cell_type": "code",
      "metadata": {
        "id": "qqJkWWIEGpl5",
        "colab": {
          "base_uri": "https://localhost:8080/",
          "height": 35
        },
        "outputId": "3f6fabe3-2958-4b65-a1bf-63329734f869"
      },
      "source": [
        "hasil['prediction'].corr(hasil['value'], method='spearman')"
      ],
      "execution_count": null,
      "outputs": [
        {
          "output_type": "execute_result",
          "data": {
            "text/plain": [
              "0.8676771304409602"
            ]
          },
          "metadata": {
            "tags": []
          },
          "execution_count": 35
        }
      ]
    },
    {
      "cell_type": "code",
      "metadata": {
        "id": "NZYSTj12vIKY"
      },
      "source": [
        "test_data = load.load_test_dataset('/content/drive/My Drive/Colab Notebooks/testing_dataset.csv')"
      ],
      "execution_count": null,
      "outputs": []
    },
    {
      "cell_type": "code",
      "metadata": {
        "id": "55TBf75yt-q8"
      },
      "source": [
        "test_dataset = prep.preprocessing(test_data)\n",
        "test_dataset = prep.text_to_number(test_dataset)"
      ],
      "execution_count": null,
      "outputs": []
    },
    {
      "cell_type": "code",
      "metadata": {
        "id": "WC37wWBfu6gL"
      },
      "source": [
        "X_test = test_dataset[kalimat_cols]\n",
        "Y_test = test_dataset['value']"
      ],
      "execution_count": null,
      "outputs": []
    },
    {
      "cell_type": "code",
      "metadata": {
        "id": "xEhocxBsvy4Q"
      },
      "source": [
        "X_test = prep.zero_padding(X_test)"
      ],
      "execution_count": null,
      "outputs": []
    },
    {
      "cell_type": "code",
      "metadata": {
        "id": "9lo1GwsBQzsq",
        "colab": {
          "base_uri": "https://localhost:8080/",
          "height": 35
        },
        "outputId": "8e47b6dd-6a00-4b53-f492-e911126957c7"
      },
      "source": [
        "import math\n",
        "train_score = model.evaluate([X_validation['left'], X_validation['right']], Y_validation)"
      ],
      "execution_count": null,
      "outputs": [
        {
          "output_type": "stream",
          "text": [
            "1839/1839 [==============================] - 2s 984us/step\n"
          ],
          "name": "stdout"
        }
      ]
    },
    {
      "cell_type": "code",
      "metadata": {
        "id": "hN0w6cpDRSyc",
        "colab": {
          "base_uri": "https://localhost:8080/",
          "height": 35
        },
        "outputId": "4433c6be-0766-4c2b-e8e1-b26452c87cc3"
      },
      "source": [
        "train_score"
      ],
      "execution_count": null,
      "outputs": [
        {
          "output_type": "execute_result",
          "data": {
            "text/plain": [
              "0.07702136775068513"
            ]
          },
          "metadata": {
            "tags": []
          },
          "execution_count": 120
        }
      ]
    },
    {
      "cell_type": "code",
      "metadata": {
        "id": "6ep4cumnw-1W",
        "colab": {
          "base_uri": "https://localhost:8080/",
          "height": 381
        },
        "outputId": "6fa33528-851c-4c62-f0df-0224bf2c7b89"
      },
      "source": [
        "model.summary()"
      ],
      "execution_count": null,
      "outputs": [
        {
          "output_type": "stream",
          "text": [
            "Model: \"model_1\"\n",
            "__________________________________________________________________________________________________\n",
            "Layer (type)                    Output Shape         Param #     Connected to                     \n",
            "==================================================================================================\n",
            "input_1 (InputLayer)            (None, 100)          0                                            \n",
            "__________________________________________________________________________________________________\n",
            "input_2 (InputLayer)            (None, 100)          0                                            \n",
            "__________________________________________________________________________________________________\n",
            "embedding_1 (Embedding)         (None, 100, 300)     1812300     input_1[0][0]                    \n",
            "                                                                 input_2[0][0]                    \n",
            "__________________________________________________________________________________________________\n",
            "lstm_1 (LSTM)                   (None, 30)           39720       embedding_1[0][0]                \n",
            "                                                                 embedding_1[1][0]                \n",
            "__________________________________________________________________________________________________\n",
            "lambda_1 (Lambda)               (None, 1)            0           lstm_1[0][0]                     \n",
            "                                                                 lstm_1[1][0]                     \n",
            "==================================================================================================\n",
            "Total params: 1,852,020\n",
            "Trainable params: 39,720\n",
            "Non-trainable params: 1,812,300\n",
            "__________________________________________________________________________________________________\n"
          ],
          "name": "stdout"
        }
      ]
    },
    {
      "cell_type": "code",
      "metadata": {
        "id": "kXCjfe8qDiJ1",
        "colab": {
          "base_uri": "https://localhost:8080/",
          "height": 589
        },
        "outputId": "b73e0e35-7d06-4721-bcd4-ac00512a9bf5"
      },
      "source": [
        "hasil"
      ],
      "execution_count": null,
      "outputs": [
        {
          "output_type": "execute_result",
          "data": {
            "text/html": [
              "<div>\n",
              "<style scoped>\n",
              "    .dataframe tbody tr th:only-of-type {\n",
              "        vertical-align: middle;\n",
              "    }\n",
              "\n",
              "    .dataframe tbody tr th {\n",
              "        vertical-align: top;\n",
              "    }\n",
              "\n",
              "    .dataframe thead th {\n",
              "        text-align: right;\n",
              "    }\n",
              "</style>\n",
              "<table border=\"1\" class=\"dataframe\">\n",
              "  <thead>\n",
              "    <tr style=\"text-align: right;\">\n",
              "      <th></th>\n",
              "      <th>nama</th>\n",
              "      <th>jawaban_siswa</th>\n",
              "      <th>kunci_jawaban</th>\n",
              "      <th>value</th>\n",
              "      <th>prediction</th>\n",
              "    </tr>\n",
              "  </thead>\n",
              "  <tbody>\n",
              "    <tr>\n",
              "      <th>0</th>\n",
              "      <td>Jack</td>\n",
              "      <td>seperangkat asas-asas hukum, aturan-aturan huk...</td>\n",
              "      <td>peraturan yang mengatur perilaku masyarakat be...</td>\n",
              "      <td>0</td>\n",
              "      <td>0.243703</td>\n",
              "    </tr>\n",
              "    <tr>\n",
              "      <th>1</th>\n",
              "      <td>Feby</td>\n",
              "      <td>tanggung jawab lancar yang kepastian jumlah ya...</td>\n",
              "      <td>suatu hal yang harus dilakukan oleh seseorang</td>\n",
              "      <td>0</td>\n",
              "      <td>0.295670</td>\n",
              "    </tr>\n",
              "    <tr>\n",
              "      <th>2</th>\n",
              "      <td>Bella Fransiska</td>\n",
              "      <td>Pengiriman dan mengeluarkan barang dari dalam ...</td>\n",
              "      <td>kegiatan menjual atau mengeluarkan barang dari...</td>\n",
              "      <td>1</td>\n",
              "      <td>0.726219</td>\n",
              "    </tr>\n",
              "    <tr>\n",
              "      <th>3</th>\n",
              "      <td>Seri Mita Mutiara</td>\n",
              "      <td>Rotasi Bumi merujuk pada gerakan berputar plan...</td>\n",
              "      <td>gerakan perputaran bumi pada poros atau sumbunya</td>\n",
              "      <td>1</td>\n",
              "      <td>0.823386</td>\n",
              "    </tr>\n",
              "    <tr>\n",
              "      <th>4</th>\n",
              "      <td>Tazrian Husna</td>\n",
              "      <td>perpindahan penduduk dari daerah yang padat pe...</td>\n",
              "      <td>perpindahan penduduk dari daerah yang padat pe...</td>\n",
              "      <td>1</td>\n",
              "      <td>1.000000</td>\n",
              "    </tr>\n",
              "    <tr>\n",
              "      <th>...</th>\n",
              "      <td>...</td>\n",
              "      <td>...</td>\n",
              "      <td>...</td>\n",
              "      <td>...</td>\n",
              "      <td>...</td>\n",
              "    </tr>\n",
              "    <tr>\n",
              "      <th>2293</th>\n",
              "      <td>Tria Riskiani</td>\n",
              "      <td>interaksi yang terjadi pada dua makhluk hidup,...</td>\n",
              "      <td>hubungan antara dua makhluk hidup yang mengunt...</td>\n",
              "      <td>0</td>\n",
              "      <td>0.376915</td>\n",
              "    </tr>\n",
              "    <tr>\n",
              "      <th>2294</th>\n",
              "      <td>Tim Tampubolon</td>\n",
              "      <td>perpindahan penduduk dengan tujuan untuk Mempe...</td>\n",
              "      <td>perpindahan penduduk dari desa ke kota</td>\n",
              "      <td>0</td>\n",
              "      <td>0.146524</td>\n",
              "    </tr>\n",
              "    <tr>\n",
              "      <th>2295</th>\n",
              "      <td>MPS</td>\n",
              "      <td>salah satu alat bantu yang dapat dipergunakan ...</td>\n",
              "      <td>alat navigasi untuk menunjukkan arah mata angin.</td>\n",
              "      <td>1</td>\n",
              "      <td>0.516152</td>\n",
              "    </tr>\n",
              "    <tr>\n",
              "      <th>2296</th>\n",
              "      <td>Lucas</td>\n",
              "      <td>suatu usaha untuk perubahan yang diperlihatkan...</td>\n",
              "      <td>suatu proses usaha yang dilakukan seseorang un...</td>\n",
              "      <td>1</td>\n",
              "      <td>0.633973</td>\n",
              "    </tr>\n",
              "    <tr>\n",
              "      <th>2297</th>\n",
              "      <td>RIZAL ISKANDAR</td>\n",
              "      <td>Bahan tahan panas</td>\n",
              "      <td>benda yang dapat menghantarkan panas dengan baik</td>\n",
              "      <td>0</td>\n",
              "      <td>0.582411</td>\n",
              "    </tr>\n",
              "  </tbody>\n",
              "</table>\n",
              "<p>2298 rows × 5 columns</p>\n",
              "</div>"
            ],
            "text/plain": [
              "                   nama  ... prediction\n",
              "0                  Jack  ...   0.243703\n",
              "1                  Feby  ...   0.295670\n",
              "2       Bella Fransiska  ...   0.726219\n",
              "3     Seri Mita Mutiara  ...   0.823386\n",
              "4         Tazrian Husna  ...   1.000000\n",
              "...                 ...  ...        ...\n",
              "2293      Tria Riskiani  ...   0.376915\n",
              "2294     Tim Tampubolon  ...   0.146524\n",
              "2295                MPS  ...   0.516152\n",
              "2296              Lucas  ...   0.633973\n",
              "2297     RIZAL ISKANDAR  ...   0.582411\n",
              "\n",
              "[2298 rows x 5 columns]"
            ]
          },
          "metadata": {
            "tags": []
          },
          "execution_count": 45
        }
      ]
    },
    {
      "cell_type": "code",
      "metadata": {
        "id": "pPkjGywdTgq9"
      },
      "source": [
        ""
      ],
      "execution_count": null,
      "outputs": []
    }
  ]
}